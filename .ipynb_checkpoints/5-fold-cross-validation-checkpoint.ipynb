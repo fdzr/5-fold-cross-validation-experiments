{
 "cells": [
  {
   "cell_type": "code",
   "execution_count": 1,
   "metadata": {},
   "outputs": [],
   "source": [
    "import random\n",
    "import pandas as pd\n",
    "from sklearn.model_selection import KFold\n",
    "\n",
    "from helpers_ import (\n",
    "    train,\n",
    "    eval,\n",
    "    get_fields_to_report_for_spectral_clustering,\n",
    "    calculate_results_for_spectral_clustering_method,\n",
    "    present_results,\n",
    "    calculate_average\n",
    ")"
   ]
  },
  {
   "cell_type": "code",
   "execution_count": 2,
   "metadata": {},
   "outputs": [],
   "source": [
    "k_fold = 5\n",
    "METHODS = [\n",
    "    \"chinese_whispers\",\n",
    "    \"correlation_clustering\",\n",
    "    \"wsbm\",\n",
    "    \"spectral_clustering\",\n",
    "]\n",
    "NUMBER_OF_WORDS = 24\n",
    "TARGET_WORDS = [\n",
    "    \"überspannen\",\n",
    "    \"Manschette\",\n",
    "    \"Fuß\",\n",
    "    \"Rezeption\",\n",
    "    \"abgebrüht\",\n",
    "    \"Dynamik\",\n",
    "    \"Engpaß\",\n",
    "    \"abbauen\",\n",
    "    \"Mißklang\",\n",
    "    \"Abgesang\",\n",
    "    \"Knotenpunkt\",\n",
    "    \"Spielball\",\n",
    "    \"zersetzen\",\n",
    "    \"Armenhaus\",\n",
    "    \"Ohrwurm\",\n",
    "    \"Eintagsfliege\",\n",
    "    \"Seminar\",\n",
    "    \"Sensation\",\n",
    "    \"Titel\",\n",
    "    \"Schmiere\",\n",
    "    \"ausspannen\",\n",
    "    \"packen\",\n",
    "    \"artikulieren\",\n",
    "    \"abdecken\",\n",
    "]\n",
    "assert len(TARGET_WORDS) == NUMBER_OF_WORDS"
   ]
  },
  {
   "cell_type": "code",
   "execution_count": 3,
   "metadata": {},
   "outputs": [],
   "source": [
    "results_per_method = {}\n",
    "for m in METHODS:\n",
    "    if m != \"spectral_clustering\":\n",
    "        results_per_method[m] = {\"ari\": 0.0, \"spr_lscd\": 0.0}\n",
    "    else:\n",
    "        results_per_method[m] = {\n",
    "            \"ari\": get_fields_to_report_for_spectral_clustering(),\n",
    "            \"spr_lscd\": 0.0,\n",
    "        }\n"
   ]
  },
  {
   "cell_type": "code",
   "execution_count": 4,
   "metadata": {},
   "outputs": [],
   "source": [
    "kf = KFold(n_splits=k_fold, random_state=32, shuffle=True)\n",
    "for m in METHODS:\n",
    "    for train_, test_ in kf.split(TARGET_WORDS):\n",
    "        best_configuration_ari, best_configuration_jsd = train(\n",
    "            m, train_, TARGET_WORDS\n",
    "        )\n",
    "        ari, spr_lscd = eval(\n",
    "            m,\n",
    "            test_,\n",
    "            best_configuration_ari,\n",
    "            best_configuration_jsd,\n",
    "            TARGET_WORDS,\n",
    "        )\n",
    "        results_per_method[m][\"spr_lscd\"] += spr_lscd\n",
    "\n",
    "        if m != \"spectral_clustering\":\n",
    "            results_per_method[m][\"ari\"] += ari\n",
    "        else:\n",
    "            calculate_results_for_spectral_clustering_method(\n",
    "                results_per_method[\"spectral_clustering\"][\"ari\"], ari\n",
    "            )\n",
    "\n",
    "calculate_average(results_per_method, METHODS, k_fold)"
   ]
  },
  {
   "cell_type": "code",
   "execution_count": 5,
   "metadata": {},
   "outputs": [
    {
     "name": "stdout",
     "output_type": "stream",
     "text": [
      "chinese_whispers\n",
      "    Spr_LSCD: 0.7477935056255461\n",
      "    ARI: 0.5606958633123537\n",
      "\n",
      "correlation_clustering\n",
      "    Spr_LSCD: 0.7149358868961792\n",
      "    ARI: 0.7379364570255248\n",
      "\n",
      "wsbm\n",
      "    Spr_LSCD: 0.6944163198544762\n",
      "    ARI: 0.5436614823130781\n",
      "\n",
      "spectral_clustering\n",
      "    Spr_LSCD: 0.794416319854476\n",
      "    AVG_ARI_SILHOUETTE: 0.6912630694220034\n",
      "    AVG_ARI_CALINSKI: 0.6621919430746371\n",
      "    AVG_ARI_EIGENGAP: 0.6853691283764869\n",
      "    AVG_ARI_SILHOUETTE_OLD: 0.6623189740754645\n",
      "    AVG_ARI_CALINSKI_OLD: 0.6163425904644021\n",
      "    AVG_ARI_EIGENGAP_OLD: 0.6657986047593586\n",
      "    AVG_ARI_SILHOUETTE_NEW: 0.7026432475958058\n",
      "    AVG_ARI_CALINSKI_NEW: 0.6905615985291641\n",
      "    AVG_ARI_EIGENGAP_NEW: 0.6016686117663294\n",
      "\n"
     ]
    }
   ],
   "source": [
    "present_results(results_per_method, METHODS)"
   ]
  }
 ],
 "metadata": {
  "kernelspec": {
   "display_name": "Python 3 (ipykernel)",
   "language": "python",
   "name": "python3"
  },
  "language_info": {
   "codemirror_mode": {
    "name": "ipython",
    "version": 3
   },
   "file_extension": ".py",
   "mimetype": "text/x-python",
   "name": "python",
   "nbconvert_exporter": "python",
   "pygments_lexer": "ipython3",
   "version": "3.10.9"
  }
 },
 "nbformat": 4,
 "nbformat_minor": 2
}
